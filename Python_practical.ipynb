{
  "nbformat": 4,
  "nbformat_minor": 0,
  "metadata": {
    "colab": {
      "name": "Python_practical.ipynb",
      "provenance": [],
      "collapsed_sections": [],
      "include_colab_link": true
    },
    "kernelspec": {
      "name": "python3",
      "display_name": "Python 3"
    },
    "language_info": {
      "name": "python"
    }
  },
  "cells": [
    {
      "cell_type": "markdown",
      "metadata": {
        "id": "view-in-github",
        "colab_type": "text"
      },
      "source": [
        "<a href=\"https://colab.research.google.com/github/nihal5617/Python_Practicals/blob/main/Python_practical.ipynb\" target=\"_parent\"><img src=\"https://colab.research.google.com/assets/colab-badge.svg\" alt=\"Open In Colab\"/></a>"
      ]
    },
    {
      "cell_type": "code",
      "source": [
        "import numpy as np\n",
        "import pandas as pd"
      ],
      "metadata": {
        "id": "jo97sESdK-T1"
      },
      "execution_count": null,
      "outputs": []
    },
    {
      "cell_type": "code",
      "execution_count": null,
      "metadata": {
        "id": "6D4ZhhJ-KPED"
      },
      "outputs": [],
      "source": [
        "# 1. Write a Python program to draw a scatter plot with empty circles taking a random distribution in X and Y and plotted against each other."
      ]
    },
    {
      "cell_type": "code",
      "source": [
        "# 2. Write a Python program to draw a scatter plot using random distributions to generate balls of different sizes. "
      ],
      "metadata": {
        "id": "jLSn0xU-KdRX"
      },
      "execution_count": null,
      "outputs": []
    },
    {
      "cell_type": "code",
      "source": [
        "# 3.Write a Python program to draw a scatter plot comparing two subject marks of Mathematics and Science. Use marks of 10 students. \n",
        "# Sample data:math_marks = [88, 92, 80, 89, 100, 80, 60, 100, 80, 34]science_marks = [35, 79, 79, 48, 100, 88, 32, 45, 20, 30]marks_range= [10, 20, 30, 40, 50, 60, 70, 80, 90, 100]\n",
        "import matplotlib.pyplot as plt\n",
        "math_marks = [88, 92, 80, 89, 100, 80, 60, 100, 80, 34]\n",
        "science_marks = [35, 79, 79, 48, 100, 88, 32, 45, 20, 30]\n",
        "# plt.xlim(0,100,10)\n",
        "# plt.ylim(0,100)\n",
        "plt.xticks(list(range(0,110,10)))\n",
        "plt.scatter(math_marks,science_marks)\n",
        "plt.show()"
      ],
      "metadata": {
        "id": "b-01w9yPKh98",
        "colab": {
          "base_uri": "https://localhost:8080/",
          "height": 265
        },
        "outputId": "26337a1d-4932-4bcd-f942-1d8c9fca1b0d"
      },
      "execution_count": null,
      "outputs": [
        {
          "output_type": "display_data",
          "data": {
            "text/plain": [
              "<Figure size 432x288 with 1 Axes>"
            ],
            "image/png": "[encoded data removed]"
          },
          "metadata": {
            "needs_background": "light"
          }
        }
      ]
    },
    {
      "cell_type": "code",
      "source": [
        "# 4. Write a Python script to concatenate following dictionaries to create a new one.\n",
        "#Sample Dictionary :\n",
        "#dic1={1:10, 2:20}\n",
        "#dic2={3:30, 4:40}\n",
        "#dic3={5:50,6:60}\n",
        "#Expected Result : {1: 10, 2: 20, 3: 30, 4: 40, 5: 50, 6: 60}\n",
        "\n",
        "dic1={1:10, 2:20}\n",
        "dic2={3:30, 4:40}\n",
        "dic3={5:50,6:60}\n",
        "dic_res={**dic1,**dic2,**dic3}\n",
        "print(dic_res)"
      ],
      "metadata": {
        "colab": {
          "base_uri": "https://localhost:8080/"
        },
        "id": "y0V39vtAKvLZ",
        "outputId": "aff65f94-1b7b-44ad-e94a-67afb0cf52b7"
      },
      "execution_count": null,
      "outputs": [
        {
          "output_type": "stream",
          "name": "stdout",
          "text": [
            "{1: 10, 2: 20, 3: 30, 4: 40, 5: 50, 6: 60}\n"
          ]
        }
      ]
    },
    {
      "cell_type": "code",
      "source": [
        "# 5. Write a Python script to check whether a given key already exists in a dictionary\n",
        "d = {1: 10, 2: 20, 3: 30, 4: 40, 5: 50, 6: 60}\n",
        "def is_key_present(x):\n",
        "  if x in d:\n",
        "      print('Key is present in the dictionary')\n",
        "  else:\n",
        "      print('Key is not present in the dictionary')\n",
        "is_key_present(5)\n",
        "is_key_present(9)"
      ],
      "metadata": {
        "id": "_z8BlFHELN29",
        "colab": {
          "base_uri": "https://localhost:8080/"
        },
        "outputId": "76b86ef5-c182-421c-c269-b88e6dbd4a5e"
      },
      "execution_count": null,
      "outputs": [
        {
          "output_type": "stream",
          "name": "stdout",
          "text": [
            "Key is present in the dictionary\n",
            "Key is not present in the dictionary\n"
          ]
        }
      ]
    },
    {
      "cell_type": "code",
      "source": [
        "# 6. Write a Python script to generate and print a dictionary that contains a number (between 1 and n) in the form (x, x*x).Sample Dictionary \n",
        "# ( n = 5) : Expected Output : {1: 1, 2: 4, 3: 9, 4: 16, 5: 25}\n",
        "\n",
        "n=int(input(\"Input a number \"))\n",
        "d = dict()\n",
        "for x in range(1,n+1):\n",
        "    d[x]=x*x\n",
        "print(d) "
      ],
      "metadata": {
        "id": "vJeOdpj_NJkE",
        "colab": {
          "base_uri": "https://localhost:8080/"
        },
        "outputId": "5da8e266-b847-40a5-ec1d-78d1c881422a"
      },
      "execution_count": null,
      "outputs": [
        {
          "output_type": "stream",
          "name": "stdout",
          "text": [
            "Input a number 5\n",
            "{1: 1, 2: 4, 3: 9, 4: 16, 5: 25}\n"
          ]
        }
      ]
    },
    {
      "cell_type": "code",
      "source": [
        "# 7. Write a Python program to remove a key from a dictionary\n",
        "myDict = {'a':1,'b':2,'c':3,'d':4}\n",
        "print(myDict)\n",
        "if 'a' in myDict: \n",
        "    del myDict['a']\n",
        "print(myDict)"
      ],
      "metadata": {
        "id": "srtlsfVu3EXC",
        "colab": {
          "base_uri": "https://localhost:8080/"
        },
        "outputId": "3ac8ed8a-48f5-4e5b-84ad-a50c67ab596b"
      },
      "execution_count": null,
      "outputs": [
        {
          "output_type": "stream",
          "name": "stdout",
          "text": [
            "{'a': 1, 'b': 2, 'c': 3, 'd': 4}\n",
            "{'b': 2, 'c': 3, 'd': 4}\n"
          ]
        }
      ]
    },
    {
      "cell_type": "code",
      "source": [
        "# 8. Write a python program to map two lists into dictionary\n",
        "\n",
        "keys = ['red', 'green', 'blue']\n",
        "values = ['#FF0000','#008000', '#0000FF']\n",
        "color_dictionary = dict(zip(keys, values))\n",
        "print(color_dictionary)"
      ],
      "metadata": {
        "id": "JNBhiI_r3gL0",
        "colab": {
          "base_uri": "https://localhost:8080/"
        },
        "outputId": "7ef79067-21c5-466e-8e95-a03fe9fe01cc"
      },
      "execution_count": null,
      "outputs": [
        {
          "output_type": "stream",
          "name": "stdout",
          "text": [
            "{'red': '#FF0000', 'green': '#008000', 'blue': '#0000FF'}\n"
          ]
        }
      ]
    },
    {
      "cell_type": "code",
      "source": [
        "#9.\n",
        "# Write a Python program to print all unique values in a dictionary\n",
        "#Sample Data : [{\"V\":\"S001\"}, {\"V\": \"S002\"}, {\"VI\": \"S001\"}, {\"VI\": \"S005\"}, {\"VII\":\"S005\"}, {\"V\":\"S009\"},{\"VIII\":\"S007\"}]\n",
        "# Expected Output : Unique Values: {'S005', 'S002', 'S007', 'S001', 'S009'}\n",
        "L = [{\"V\":\"S001\"}, {\"V\": \"S002\"}, {\"VI\": \"S001\"}, {\"VI\": \"S005\"}, {\"VII\":\"S005\"}, {\"V\":\"S009\"},{\"VIII\":\"S007\"}]\n",
        "print(\"Original List: \",L)\n",
        "u_value = set( val for dic in L for val in dic.values())\n",
        "print(\"Unique Values: \",u_value)"
      ],
      "metadata": {
        "id": "-DFH8Uo74hZe",
        "colab": {
          "base_uri": "https://localhost:8080/"
        },
        "outputId": "9308d8a0-c603-4eb5-96ed-c6a499faf378"
      },
      "execution_count": null,
      "outputs": [
        {
          "output_type": "stream",
          "name": "stdout",
          "text": [
            "Original List:  [{'V': 'S001'}, {'V': 'S002'}, {'VI': 'S001'}, {'VI': 'S005'}, {'VII': 'S005'}, {'V': 'S009'}, {'VIII': 'S007'}]\n",
            "Unique Values:  {'S009', 'S001', 'S007', 'S005', 'S002'}\n"
          ]
        }
      ]
    },
    {
      "cell_type": "code",
      "source": [
        "#10. Write a Python program to create a dictionary from a string. Note: Track the count of the letters from the string.\n",
        "from collections import defaultdict, Counter\n",
        "str1 = 'w3resource' \n",
        "my_dict = {}\n",
        "for letter in str1:\n",
        "    my_dict[letter] = my_dict.get(letter, 0) + 1\n",
        "print(my_dict)"
      ],
      "metadata": {
        "colab": {
          "base_uri": "https://localhost:8080/"
        },
        "id": "SENNae225D9J",
        "outputId": "f5a7c427-ab05-4f53-f393-a59a430c829c"
      },
      "execution_count": null,
      "outputs": [
        {
          "output_type": "stream",
          "name": "stdout",
          "text": [
            "{'w': 1, '3': 1, 'r': 2, 'e': 2, 's': 1, 'o': 1, 'u': 1, 'c': 1}\n"
          ]
        }
      ]
    },
    {
      "cell_type": "code",
      "source": [
        "#11. Write a program that takes a sentence as an input parameter where each word in the sentence is separated by a space. Then replace each \n",
        "#blank with a hyphen and then print the modified sentence\n",
        "sentence=input(\"Enter a sentence\")\n",
        "sentence.replace(\" \",\"-\")"
      ],
      "metadata": {
        "colab": {
          "base_uri": "https://localhost:8080/",
          "height": 53
        },
        "id": "CEP-7rW15yk6",
        "outputId": "afb82517-58c7-4eb9-e761-e128828d4d70"
      },
      "execution_count": null,
      "outputs": [
        {
          "name": "stdout",
          "output_type": "stream",
          "text": [
            "Enter a sentenceHello world\n"
          ]
        },
        {
          "output_type": "execute_result",
          "data": {
            "text/plain": [
              "'Hello-world'"
            ],
            "application/vnd.google.colaboratory.intrinsic+json": {
              "type": "string"
            }
          },
          "metadata": {},
          "execution_count": 12
        }
      ]
    },
    {
      "cell_type": "code",
      "source": [
        "#12. Write a program to randomly select 10 integer elements from range 100 to 200 and find the smallest among all\n",
        "\n",
        "def Rand(start, end, num):\n",
        "    res = []\n",
        "    for j in range(num):\n",
        "        res.append(np.random.randint(start, end))\n",
        "    print(res)\n",
        "    res.sort\n",
        "    return res[0]\n",
        "num = 10\n",
        "start = 100\n",
        "end = 200\n",
        "print(\"Smallest number is : \",Rand(start,end,num))"
      ],
      "metadata": {
        "colab": {
          "base_uri": "https://localhost:8080/"
        },
        "id": "fEkJxqrm6NwW",
        "outputId": "593ee7d4-61ee-4a06-c519-a143c7b13982"
      },
      "execution_count": null,
      "outputs": [
        {
          "output_type": "stream",
          "name": "stdout",
          "text": [
            "[108, 175, 130, 171, 145, 115, 179, 197, 145, 108]\n",
            "Smallest number is :  108\n"
          ]
        }
      ]
    },
    {
      "cell_type": "code",
      "source": [
        "#13. Create a dictionary of 5 countries with their currency details and display them.  \n",
        "#Print as below\n",
        "#first line\n",
        "#second line\n",
        "#third line\n",
        "dict = {\"Afghanistan\":\"Afghani\",\"Luxembourg \":\"Euro\",\"Qatar\":\"Qatari Riyal\",\"Vietnam\":\"Dong\",\"India\":\"Rupee\"}\n",
        "for i,j in dict.items():\n",
        "    print(i,\":\",j)"
      ],
      "metadata": {
        "id": "Pfjcv4qeDg_z",
        "colab": {
          "base_uri": "https://localhost:8080/"
        },
        "outputId": "db9722d3-e785-4dfe-ba03-aa57ee8f8fdc"
      },
      "execution_count": null,
      "outputs": [
        {
          "output_type": "stream",
          "name": "stdout",
          "text": [
            "Afghanistan : Afghani\n",
            "Luxembourg  : Euro\n",
            "Qatar : Qatari Riyal\n",
            "Vietnam : Dong\n",
            "India : Rupee\n"
          ]
        }
      ]
    },
    {
      "cell_type": "code",
      "source": [
        "#14. Declare complex number , find data type, real part, imaginary part, complex conjugate, absolute value of a number\n",
        "\n",
        "import cmath\n",
        "x = 5\n",
        "y = 3\n",
        "z = complex(x,y);\n",
        "print (\"The real part of complex number is : \",z.real)\n",
        "print (\"The imaginary part of complex number is : \",z.imag)\n",
        "print(\"Complex conjugate is : \",np.conjugate(z))\n",
        "print(\"Absolute value is :\",abs(z))"
      ],
      "metadata": {
        "colab": {
          "base_uri": "https://localhost:8080/"
        },
        "id": "WPcGYAviFPEp",
        "outputId": "3d7b6ce0-1981-4fdf-bca7-7f2c01bd646b"
      },
      "execution_count": null,
      "outputs": [
        {
          "output_type": "stream",
          "name": "stdout",
          "text": [
            "The real part of complex number is :  5.0\n",
            "The imaginary part of complex number is :  3.0\n",
            "Complex conjugate is :  (5-3j)\n",
            "Absolute value is  5.830951894845301\n"
          ]
        }
      ]
    },
    {
      "cell_type": "code",
      "source": [
        "#15. Change string hello to help  ,remove white spaces before word if  s=\" hello\" \n",
        "s=input(\"Enter a sentence : \")\n",
        "s.strip()\n",
        "s.replace(\"hello\",\"help\")"
      ],
      "metadata": {
        "id": "DPqHtBQ6GwTJ"
      },
      "execution_count": null,
      "outputs": []
    },
    {
      "cell_type": "code",
      "source": [
        "#16. same #12"
      ],
      "metadata": {
        "id": "7mRPEd6XHbUr"
      },
      "execution_count": null,
      "outputs": []
    },
    {
      "cell_type": "code",
      "source": [
        "#17. swap first and last letter of string\n",
        "def swap(string):\n",
        "    start = string[0]\n",
        "    end = string[-1]\n",
        "    swapped_string = end + string[1:-1] + start\n",
        "    print(swapped_string)\n",
        "swap(\"Hello\")"
      ],
      "metadata": {
        "colab": {
          "base_uri": "https://localhost:8080/"
        },
        "id": "jWebuPRHHo_T",
        "outputId": "c434c621-4e40-4e3d-f217-52ed1a0f086c"
      },
      "execution_count": null,
      "outputs": [
        {
          "output_type": "stream",
          "name": "stdout",
          "text": [
            "oellH\n"
          ]
        }
      ]
    },
    {
      "cell_type": "code",
      "source": [
        "#18. Find if substring is present in string or not\n",
        "string=\"Hello world\"\n",
        "str1=\"Hello\"\n",
        "if (string.find(str1)==-1):\n",
        "  print(\"No\")\n",
        "else:\n",
        "  print(\"Yes\")"
      ],
      "metadata": {
        "colab": {
          "base_uri": "https://localhost:8080/"
        },
        "id": "MVaf41wHIBfb",
        "outputId": "795af350-d160-440a-90e5-f2d8858808e2"
      },
      "execution_count": null,
      "outputs": [
        {
          "output_type": "stream",
          "name": "stdout",
          "text": [
            "Yes\n"
          ]
        }
      ]
    },
    {
      "cell_type": "code",
      "source": [
        "#19. same 11"
      ],
      "metadata": {
        "id": "nF1hRR0qJMYy"
      },
      "execution_count": null,
      "outputs": []
    },
    {
      "cell_type": "code",
      "source": [
        "#20. WAPP to test whether string is palindrome or not \n",
        "str1=\"aba\"\n",
        "str2=str1[::-1]\n",
        "if(str1==str2): print(\"Yes\")\n",
        "else: print(\"No\")"
      ],
      "metadata": {
        "colab": {
          "base_uri": "https://localhost:8080/"
        },
        "id": "SRWZaVPqJm0P",
        "outputId": "463cf5f2-6ebe-4e9e-ed9e-18c037f10bef"
      },
      "execution_count": null,
      "outputs": [
        {
          "output_type": "stream",
          "name": "stdout",
          "text": [
            "Yes\n"
          ]
        }
      ]
    },
    {
      "cell_type": "code",
      "source": [
        "#21. WAP to capitalize the first character of each words from a given sentence (example: all the best All The Best)\n",
        "str1=\"hello world\"\n",
        "str2=str1.title()\n",
        "str2"
      ],
      "metadata": {
        "colab": {
          "base_uri": "https://localhost:8080/",
          "height": 36
        },
        "id": "ySKPjxz8KMme",
        "outputId": "a64628e2-d5e5-4c88-9647-7d41d74c893f"
      },
      "execution_count": null,
      "outputs": [
        {
          "output_type": "execute_result",
          "data": {
            "text/plain": [
              "'Hello World'"
            ],
            "application/vnd.google.colaboratory.intrinsic+json": {
              "type": "string"
            }
          },
          "metadata": {},
          "execution_count": 22
        }
      ]
    },
    {
      "cell_type": "code",
      "source": [
        "#22. WAP to count the frequency of occurrence of a given character in a given line of text\n",
        "str = \"geeks for geeks121\"\n",
        "c='g'\n",
        "n=0\n",
        "for i in range(0,len(str)):\n",
        "  if(str[i]==c):\n",
        "    n+=1\n",
        "print(n)"
      ],
      "metadata": {
        "id": "jnOYB_U1KsqL",
        "colab": {
          "base_uri": "https://localhost:8080/"
        },
        "outputId": "c24f0de9-5c69-4ce9-9344-6b452379f1b7"
      },
      "execution_count": null,
      "outputs": [
        {
          "output_type": "stream",
          "name": "stdout",
          "text": [
            "2\n"
          ]
        }
      ]
    },
    {
      "cell_type": "code",
      "source": [
        "#23. Create a dictionary of 4 states with their capital details & add one more pair to the same\n",
        "capitals={\"Maharashtra\":\"Mumbai\", \"Telangana\":\"Hyderabad\", \"Tamilnadu\":\"Chennai\", \"Karnataka\":\"Bengaluru\"}\n",
        "capitals={**capitals, \"Bihar\":\"Patna\"}\n",
        "capitals"
      ],
      "metadata": {
        "colab": {
          "base_uri": "https://localhost:8080/"
        },
        "id": "vaMaH2pFjLmG",
        "outputId": "47b0e6b5-0a41-4e78-d0ca-7780d3dfa82d"
      },
      "execution_count": null,
      "outputs": [
        {
          "output_type": "execute_result",
          "data": {
            "text/plain": [
              "{'Bihar': 'Patna',\n",
              " 'Karnataka': 'Bengaluru',\n",
              " 'Maharashtra': 'Mumbai',\n",
              " 'Tamilnadu': 'Chennai',\n",
              " 'Telangana': 'Hyderabad'}"
            ]
          },
          "metadata": {},
          "execution_count": 1
        }
      ]
    },
    {
      "cell_type": "code",
      "source": [
        "#24. To count number digits, special symbols from the given sentence. Also count number of vowels and consonants\n",
        "def countCharacterType(str):\n",
        "    vowels = 0\n",
        "    consonant = 0\n",
        "    specialChar = 0\n",
        "    digit = 0\n",
        "    for i in range(0, len(str)):\n",
        "        ch = str[i]\n",
        "        if ( (ch >= 'a' and ch <= 'z') or\n",
        "             (ch >= 'A' and ch <= 'Z') ):\n",
        "            ch = ch.lower()\n",
        "            if (ch == 'a' or ch == 'e' or ch == 'i'\n",
        "                        or ch == 'o' or ch == 'u'):\n",
        "                vowels += 1\n",
        "            else:\n",
        "                consonant += 1\n",
        "        elif (ch >= '0' and ch <= '9'):\n",
        "            digit += 1\n",
        "        else:\n",
        "            specialChar += 1\n",
        "    print(\"Vowels:\", vowels)\n",
        "    print(\"Consonant:\", consonant)\n",
        "    print(\"Digit:\", digit)\n",
        "    print(\"Special Character:\", specialChar)\n",
        "str = \"geeks for geeks121\"\n",
        "countCharacterType(str)"
      ],
      "metadata": {
        "id": "wHqGilcCj1tp"
      },
      "execution_count": null,
      "outputs": []
    },
    {
      "cell_type": "code",
      "source": [
        "#25. Write a program to accept any string up to 15 characters. Display the elements of string with their element nos \n",
        "str = input(\"Enter a string with less then 15 letter: \")\n",
        "if(len(str)>15):\n",
        "    print(\"Enter a string with less characters\")\n",
        "else:\n",
        "    for i in range(len(str)):\n",
        "        print(i,\":\",str[i])"
      ],
      "metadata": {
        "id": "tvFwMLE7kbAR",
        "colab": {
          "base_uri": "https://localhost:8080/"
        },
        "outputId": "14aec722-317d-4306-da2f-a361f8b45cb5"
      },
      "execution_count": null,
      "outputs": [
        {
          "output_type": "stream",
          "name": "stdout",
          "text": [
            "Enter a string with less then 15 letter: abcdef\n",
            "0 : a\n",
            "1 : b\n",
            "2 : c\n",
            "3 : d\n",
            "4 : e\n",
            "5 : f\n"
          ]
        }
      ]
    },
    {
      "cell_type": "code",
      "source": [
        "#26. Create a Numpy array filled with all ones  \n",
        "a=np.ones(3,dtype=int)\n",
        "a"
      ],
      "metadata": {
        "colab": {
          "base_uri": "https://localhost:8080/"
        },
        "id": "FJfUVV_glSMC",
        "outputId": "0a3a508c-1534-4da7-8cb0-e53c1d5a7089"
      },
      "execution_count": null,
      "outputs": [
        {
          "output_type": "execute_result",
          "data": {
            "text/plain": [
              "array([1, 1, 1])"
            ]
          },
          "metadata": {},
          "execution_count": 6
        }
      ]
    },
    {
      "cell_type": "code",
      "source": [
        "#27. Check whether a Numpy array contains a specified row\n",
        "a = np.array([[1,2,3],[4,5,6]])\n",
        "if [1,2,3] in a.tolist():\n",
        "  print(\"YES\")\n",
        "else:\n",
        "  print(\"NO\")"
      ],
      "metadata": {
        "id": "K_bu64FqlnHG",
        "colab": {
          "base_uri": "https://localhost:8080/"
        },
        "outputId": "2200ba21-d920-4235-dadd-29b9d63d0f20"
      },
      "execution_count": null,
      "outputs": [
        {
          "output_type": "stream",
          "name": "stdout",
          "text": [
            "YES\n"
          ]
        }
      ]
    },
    {
      "cell_type": "code",
      "source": [
        "#28. Compute mathematical operations on Array, Add & Multiply 2 matrices\n",
        "mat1 = ([1, 6, 5],[3 ,4, 8],[2, 12, 3])\n",
        "mat2 = ([3, 4, 6],[5, 6, 7],[6,56, 7])\n",
        "res = np.dot(mat1,mat2)\n",
        "print(res)\n",
        "res = np.add(mat1,mat2)\n",
        "print(res)"
      ],
      "metadata": {
        "id": "49XHVP5ykD2W",
        "colab": {
          "base_uri": "https://localhost:8080/"
        },
        "outputId": "bcf2dda0-9466-4b6f-e4f4-aee1508091ea"
      },
      "execution_count": null,
      "outputs": [
        {
          "output_type": "stream",
          "name": "stdout",
          "text": [
            "[[ 63 320  83]\n",
            " [ 77 484 102]\n",
            " [ 84 248 117]]\n",
            "[[ 4 10 11]\n",
            " [ 8 10 15]\n",
            " [ 8 68 10]]\n"
          ]
        }
      ]
    },
    {
      "cell_type": "code",
      "source": [
        "#29 Find most frequent value in numpy array\n",
        "arr = np.array([1,1,1,2,3,])\n",
        "print(np.bincount(arr).argmax())"
      ],
      "metadata": {
        "id": "cttHi3dgkxsd",
        "colab": {
          "base_uri": "https://localhost:8080/"
        },
        "outputId": "30629627-a95e-4bb7-bd89-ec8c0cdcb64e"
      },
      "execution_count": null,
      "outputs": [
        {
          "output_type": "stream",
          "name": "stdout",
          "text": [
            "1\n"
          ]
        }
      ]
    },
    {
      "cell_type": "code",
      "source": [
        "#30 Flatten a 2d numpy array into 1d array\n",
        "a = np.array([[1],[2],[3]])\n",
        "print(a.flatten())"
      ],
      "metadata": {
        "colab": {
          "base_uri": "https://localhost:8080/"
        },
        "id": "Gbi2gHJbkzTu",
        "outputId": "17deb6ec-227e-4a58-d81a-5f794b57aa91"
      },
      "execution_count": null,
      "outputs": [
        {
          "output_type": "stream",
          "name": "stdout",
          "text": [
            "[1 2 3]\n"
          ]
        }
      ]
    },
    {
      "cell_type": "code",
      "source": [
        "#31 Calculate the sum of all columns in 2D Numpy Array\n",
        "num = np.arange(36)\n",
        "arr1 = np.reshape(num, [4, 9])\n",
        "print(\"Original array:\")\n",
        "print(arr1)\n",
        "result  = arr1.sum(axis=0)\n",
        "print(\"\\nSum of all columns:\")\n",
        "print(result)"
      ],
      "metadata": {
        "id": "4bwuJtCek9uv",
        "colab": {
          "base_uri": "https://localhost:8080/"
        },
        "outputId": "b50de3df-db03-45f4-81fd-ec49e3c7240c"
      },
      "execution_count": null,
      "outputs": [
        {
          "output_type": "stream",
          "name": "stdout",
          "text": [
            "Original array:\n",
            "[[ 0  1  2  3  4  5  6  7  8]\n",
            " [ 9 10 11 12 13 14 15 16 17]\n",
            " [18 19 20 21 22 23 24 25 26]\n",
            " [27 28 29 30 31 32 33 34 35]]\n",
            "\n",
            "Sum of all columns:\n",
            "[54 58 62 66 70 74 78 82 86]\n"
          ]
        }
      ]
    },
    {
      "cell_type": "code",
      "source": [
        "#32 Calculate the average, variance and standard deviation in Python using NumPy\n",
        "arr = np.array([1,2,3,4,5])\n",
        "print(arr.mean())\n",
        "print(arr.std())\n",
        "print(arr.var())"
      ],
      "metadata": {
        "colab": {
          "base_uri": "https://localhost:8080/"
        },
        "id": "F7ZhqPZSVNcO",
        "outputId": "b7df71f3-6f94-466a-e814-2daf85fe4b29"
      },
      "execution_count": null,
      "outputs": [
        {
          "output_type": "stream",
          "name": "stdout",
          "text": [
            "3.0\n",
            "1.4142135623730951\n",
            "2.0\n"
          ]
        }
      ]
    },
    {
      "cell_type": "code",
      "source": [
        "#33 Insert a space between characters of all the elements of a given NumPy array ['Python' 'is' 'easy']  ['P y t h o n' 'i s' 'e a s y'] \n",
        "x = np.array([\"Python\",\"is\",\"not\",\"easy\"])\n",
        "print(x)\n",
        "r = np.char.join(\" \",x)\n",
        "print(r)"
      ],
      "metadata": {
        "colab": {
          "base_uri": "https://localhost:8080/"
        },
        "id": "lAkf7HgSVN1z",
        "outputId": "beb4ca21-cf2e-4ba2-9e16-95009ae13ee8"
      },
      "execution_count": null,
      "outputs": [
        {
          "output_type": "stream",
          "name": "stdout",
          "text": [
            "['Python' 'is' 'not' 'easy']\n",
            "['P y t h o n' 'i s' 'n o t' 'e a s y']\n"
          ]
        }
      ]
    },
    {
      "cell_type": "code",
      "source": [
        "#34 Plot line graph from NumPy array"
      ],
      "metadata": {
        "id": "me4uKPr6VOKt"
      },
      "execution_count": null,
      "outputs": []
    },
    {
      "cell_type": "code",
      "source": [
        "#35 WAP to reverse a number\n",
        "a = input()\n",
        "print(a[::-1])"
      ],
      "metadata": {
        "colab": {
          "base_uri": "https://localhost:8080/"
        },
        "id": "ZvoX6A1ZlEf4",
        "outputId": "aea89e53-77f1-4b29-8431-110a5b1cecf3"
      },
      "execution_count": null,
      "outputs": [
        {
          "output_type": "stream",
          "name": "stdout",
          "text": [
            "123\n",
            "321\n"
          ]
        }
      ]
    },
    {
      "cell_type": "code",
      "source": [
        "#36 WAP to read number N and print natural numbers summation pattern\n",
        "s = 0\n",
        "e = \"\"\n",
        "n = int(input(\"Enter the number: \"))\n",
        "for i in range(1,n+1):\n",
        "  s += i\n",
        "  if i != 1:\n",
        "    e += \"+\"\n",
        "  e += f\"{i}\"\n",
        "  print(f'{e} = {s}')"
      ],
      "metadata": {
        "colab": {
          "base_uri": "https://localhost:8080/"
        },
        "id": "FnnhcxMClTvP",
        "outputId": "c5ee3afe-5099-4a46-ec55-cdb21222265b"
      },
      "execution_count": null,
      "outputs": [
        {
          "output_type": "stream",
          "name": "stdout",
          "text": [
            "Enter the number: 5\n",
            "1 = 1\n",
            "1+2 = 3\n",
            "1+2+3 = 6\n",
            "1+2+3+4 = 10\n",
            "1+2+3+4+5 = 15\n"
          ]
        }
      ]
    },
    {
      "cell_type": "code",
      "source": [
        "#37 WAP to determin all pythathorean triplets\n",
        "limit=int(input(\"Enter upper limit:\"))\n",
        "c=0\n",
        "m=2\n",
        "while(c<limit):\n",
        "  for n in range(1,m+1):\n",
        "    a=m*m-n*n\n",
        "    b=2*m*n\n",
        "    c=m*m+n*n\n",
        "    if(c>limit):\n",
        "      break\n",
        "    if(a==0 or b==0 or c==0):\n",
        "      break\n",
        "    print(a,b,c)\n",
        "  m=m+1\n"
      ],
      "metadata": {
        "colab": {
          "base_uri": "https://localhost:8080/"
        },
        "id": "z1iFkCeGl8ri",
        "outputId": "e4e267ef-a2da-42b1-f971-4a70b80a2ef4"
      },
      "execution_count": null,
      "outputs": [
        {
          "output_type": "stream",
          "name": "stdout",
          "text": [
            "Enter upper limit:20\n",
            "3 4 5\n",
            "8 6 10\n",
            "5 12 13\n",
            "15 8 17\n",
            "12 16 20\n"
          ]
        }
      ]
    },
    {
      "cell_type": "code",
      "source": [
        "#38 WAP you are given a number A which contains only 0 and 1\n",
        "s = input()\n",
        "count0 = 0\n",
        "count1 = 0\n",
        "for i in s:\n",
        "  if i == '0':\n",
        "    count0 += 1\n",
        "  else:\n",
        "    count1 += 1\n",
        "if count0 <= 1 or count1 <= 1:\n",
        " print(\"YES\")\n",
        "else:\n",
        " print(\"NO\")"
      ],
      "metadata": {
        "colab": {
          "base_uri": "https://localhost:8080/"
        },
        "id": "mN9Vir0Sm7tq",
        "outputId": "57d536b8-bae4-4e81-e9f7-4dd93faf3cec"
      },
      "execution_count": null,
      "outputs": [
        {
          "output_type": "stream",
          "name": "stdout",
          "text": [
            "111111\n",
            "YES\n"
          ]
        }
      ]
    },
    {
      "cell_type": "code",
      "source": [
        "#39 Given a list A of N distinct integer numbers, you can sort the list by moving an element to the end of the list. Find the minimum number \n",
        "#of moves required to sort the list using this method in ascending order\n",
        "l = list(map(int,input().split()))\n",
        "s = sorted(l)\n",
        "flag = True\n",
        "for i in range(len(l)):\n",
        "  if l[i] != s[i]:\n",
        "    print(len(l)-i-1)\n",
        "    flag = False\n",
        "    break\n",
        "if flag:\n",
        "  print(0)"
      ],
      "metadata": {
        "colab": {
          "base_uri": "https://localhost:8080/"
        },
        "id": "M-8Np7r1mtSZ",
        "outputId": "622ce79d-406a-4609-c3ed-80da35dd5a21"
      },
      "execution_count": null,
      "outputs": [
        {
          "output_type": "stream",
          "name": "stdout",
          "text": [
            "1 2 4 5 3\n",
            "2\n"
          ]
        }
      ]
    },
    {
      "cell_type": "code",
      "source": [
        "#40 WAP to print following pattern\n",
        "for i in range(1,7):\n",
        "  for j in range(1,i+1):\n",
        "    print(i,end=\"\")\n",
        "  print(\"\\\\n\")"
      ],
      "metadata": {
        "id": "nTrhmcswoRam",
        "colab": {
          "base_uri": "https://localhost:8080/"
        },
        "outputId": "224d7599-0cc3-47bf-dd93-23dc091dfdac"
      },
      "execution_count": null,
      "outputs": [
        {
          "output_type": "stream",
          "name": "stdout",
          "text": [
            "1\\n\n",
            "22\\n\n",
            "333\\n\n",
            "4444\\n\n",
            "55555\\n\n",
            "666666\\n\n"
          ]
        }
      ]
    },
    {
      "cell_type": "code",
      "source": [
        "#41 Convert two lists into a dictionary \n",
        "a = ['a','b','c','d','e']\n",
        "b = [1,2,3,4,5]\n",
        "print(dict(zip(a,b)))"
      ],
      "metadata": {
        "colab": {
          "base_uri": "https://localhost:8080/"
        },
        "id": "LCxYGtBLoc4N",
        "outputId": "64190a95-1bdf-440a-dc4f-c6425c3f80d8"
      },
      "execution_count": null,
      "outputs": [
        {
          "output_type": "stream",
          "name": "stdout",
          "text": [
            "{'a': 1, 'b': 2, 'c': 3, 'd': 4, 'e': 5}\n"
          ]
        }
      ]
    },
    {
      "cell_type": "code",
      "source": [
        "#42 Check how many times a given number can be divided by 6 before it is less than or equal to 10.\n",
        "a=int(input(\"Enter a number\"))\n",
        "b=0\n",
        "if(a<=10): print(\"0\")\n",
        "else:\n",
        "  while(a>10):\n",
        "    a=a/6\n",
        "    b+=1\n",
        "  print(b)"
      ],
      "metadata": {
        "id": "AJGkEaKToz5Q",
        "colab": {
          "base_uri": "https://localhost:8080/"
        },
        "outputId": "f79258f0-da01-4e74-a6a3-24dc1744dfb3"
      },
      "execution_count": null,
      "outputs": [
        {
          "output_type": "stream",
          "name": "stdout",
          "text": [
            "Enter a number100\n",
            "2\n"
          ]
        }
      ]
    },
    {
      "cell_type": "code",
      "source": [
        "#43 Python program to read a file and Capitalize the first letter of every word in the file\n",
        "f = open(\"/content/sample_data/README.md\",'r')\n",
        "for line in f:\n",
        "  print(line.title())"
      ],
      "metadata": {
        "id": "UFvUL1ATo6ZX"
      },
      "execution_count": null,
      "outputs": []
    },
    {
      "cell_type": "code",
      "source": [
        "#44 Python program that reads a text file and counts number of times certain letter appears in the text file\n",
        "f = open(\"/content/sample_data/README.md\",'r')\n",
        "dict = {}\n",
        "for line in f:\n",
        "  for letter in line:\n",
        "    dict[letter] = dict.get(letter,0) +1\n",
        "print(dict)\n",
        "f.close() "
      ],
      "metadata": {
        "id": "J_0NAsxup7Tw",
        "colab": {
          "base_uri": "https://localhost:8080/"
        },
        "outputId": "23435fc5-89b8-4cff-8386-1505e8d0863b"
      },
      "execution_count": null,
      "outputs": [
        {
          "output_type": "stream",
          "name": "stdout",
          "text": [
            "{'T': 4, 'h': 18, 'i': 55, 's': 56, ' ': 112, 'd': 27, 'r': 29, 'e': 53, 'c': 29, 't': 52, 'o': 38, 'y': 9, 'n': 37, 'l': 21, 'u': 12, 'a': 72, 'f': 10, 'w': 8, 'm': 18, 'p': 16, 'g': 14, '.': 22, '\\n': 19, '*': 5, '`': 6, '_': 9, 'v': 8, 'C': 2, '1': 9, '9': 7, '0': 4, 'U': 1, 'S': 6, ';': 2, 'b': 18, ':': 8, '/': 27, '-': 7, '[': 3, 'M': 2, 'N': 2, 'I': 2, ']': 3, '(': 5, 'k': 4, ')': 5, ',': 2, 'x': 1, 'j': 2, 'A': 5, \"'\": 3, 'q': 2, '%': 1, '2': 5, '7': 7, 'F': 1, 'J': 2, '3': 5, 'G': 1, 'O': 1, 'R': 1, '6': 2, '8': 5, 'z': 1, '4': 4, '5': 3}\n"
          ]
        }
      ]
    },
    {
      "cell_type": "code",
      "source": [
        "#45 Write a program to write content to file &  append data to file  \n",
        "#write\n",
        "# f=open(\"/content/sample_data/new.txt\",'w')\n",
        "# f.write(\"Hello World\")\n",
        "# f.close()\n",
        "#append\n",
        "f=open(\"/content/sample_data/new.txt\",'a')\n",
        "f.write(\"\\nHello Bois\")\n",
        "f.close()"
      ],
      "metadata": {
        "id": "ODGFXQCzae2c"
      },
      "execution_count": null,
      "outputs": []
    },
    {
      "cell_type": "code",
      "source": [
        "#46 Python program to read the contents of a file\n",
        "f=open(\"/content/sample_data/new.txt\",'r')\n",
        "print(f.read())"
      ],
      "metadata": {
        "colab": {
          "base_uri": "https://localhost:8080/"
        },
        "id": "pmn-rXgaakx7",
        "outputId": "e1ba9544-aaee-4c11-f30c-f63c73df60d3"
      },
      "execution_count": null,
      "outputs": [
        {
          "output_type": "stream",
          "name": "stdout",
          "text": [
            "Hello World\n",
            "Hello Bois\n"
          ]
        }
      ]
    },
    {
      "cell_type": "code",
      "source": [
        "#47 Copy the contents from one file to another\n",
        "f1=open(\"/content/sample_data/README.md\",'r')\n",
        "f2=open(\"/content/sample_data/new.txt\",'a')\n",
        "cont=f1.read()\n",
        "f2.write(cont)\n",
        "f1.close()\n",
        "f2.close()"
      ],
      "metadata": {
        "id": "FP6LAuvNarM1"
      },
      "execution_count": null,
      "outputs": []
    },
    {
      "cell_type": "code",
      "source": [
        "#48 WAP to accept name and roll number of students and store it in file. Read and display the stored data. Also check if file exists or not\n",
        "# f = open(\"/content/sample_data/new.txt\",'a')\n",
        "# n = int(input(\"Enter the number of students: \"))\n",
        "# for i in range(0,n):\n",
        "#     name = input(\"Enter the name of the student: \")\n",
        "#     roll = input(\"Enter the roll number of the student: \")\n",
        "#     str = name+\":\"+roll\n",
        "#     f.write(str)\n",
        "#     f.write(\"\\n\")\n",
        "# f.close()\n",
        "import os.path\n",
        "from os import path\n",
        "Path = \"/content/sample_data/new.txt\"\n",
        "isExist = os.path.exists(Path)\n",
        "print(isExist)"
      ],
      "metadata": {
        "colab": {
          "base_uri": "https://localhost:8080/"
        },
        "id": "gfRKefjbas-H",
        "outputId": "29ef251c-ed58-44b4-e8ec-e135e3d13483"
      },
      "execution_count": null,
      "outputs": [
        {
          "output_type": "stream",
          "name": "stdout",
          "text": [
            "True\n"
          ]
        }
      ]
    },
    {
      "cell_type": "code",
      "source": [
        "#49 WAP to copy contents of 1 file to another Let user specify name of source and destination files  \n",
        "# file1 = input(\"Enter the first file :\")\n",
        "# file2 = input(\"Enter the second file :\")\n",
        "# f2 = open(file2,'a')\n",
        "# with open(file1,'r') as f:\n",
        "#     for line in f:\n",
        "#         f2.write(line)"
      ],
      "metadata": {
        "id": "voF9eBhiazjJ"
      },
      "execution_count": null,
      "outputs": []
    },
    {
      "cell_type": "code",
      "source": [
        "#50 Python program to read file word by word\n",
        "f = open(\"/content/sample_data/new.txt\",'r')\n",
        "for line in f:\n",
        "    list = line.split(\" \")\n",
        "    for i in list:\n",
        "        print(i)"
      ],
      "metadata": {
        "id": "FWlB3deXa17c"
      },
      "execution_count": null,
      "outputs": []
    },
    {
      "cell_type": "code",
      "source": [
        "#51 Python program to read character by character from a file\n",
        "f = open(\"/content/sample_data/new.txt\",'r')\n",
        "for line in f:\n",
        "  for char in line:\n",
        "    print(char)"
      ],
      "metadata": {
        "id": "Ulhds96Fa4Bd"
      },
      "execution_count": null,
      "outputs": []
    },
    {
      "cell_type": "code",
      "source": [
        "#52 Python – Get number of characters, words, spaces and lines in a file \n",
        "char = 0\n",
        "word = 0\n",
        "lines = 0\n",
        "f = open(\"/content/sample_data/new.txt\",'r')\n",
        "for line in f:\n",
        "    lines  = lines + 1\n",
        "    list = line.split(\" \")\n",
        "    word = word + len(list)\n",
        "    for chars in line:\n",
        "        char = char + 1\n",
        "print(char)\n",
        "print(word)\n",
        "print(lines)"
      ],
      "metadata": {
        "colab": {
          "base_uri": "https://localhost:8080/"
        },
        "id": "c_G4CFFIa675",
        "outputId": "61a2e82b-09ba-43fd-abad-b595ef8c3cb7"
      },
      "execution_count": null,
      "outputs": [
        {
          "output_type": "stream",
          "name": "stdout",
          "text": [
            "952\n",
            "134\n",
            "20\n"
          ]
        }
      ]
    }
  ]
}
